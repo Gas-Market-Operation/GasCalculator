{
 "cells": [
  {
   "cell_type": "code",
   "execution_count": 49,
   "id": "0b34177f-9c18-4867-a9da-a9ee96ea91d5",
   "metadata": {},
   "outputs": [],
   "source": [
    "import numpy as np\n",
    "import pandas as pd\n",
    "from IPython.display import display"
   ]
  },
  {
   "cell_type": "code",
   "execution_count": 18,
   "id": "6037c9c2-c624-495c-842a-aa8b6098a3ba",
   "metadata": {},
   "outputs": [],
   "source": [
    "# Load the gridset\n",
    "\n",
    "fpv = pd.read_csv(\"2Dgrid.csv\")"
   ]
  },
  {
   "cell_type": "markdown",
   "id": "f9f53e21-3234-4326-9a3e-90f7acad7324",
   "metadata": {},
   "source": [
    "### Data Pre-processing"
   ]
  },
  {
   "cell_type": "code",
   "execution_count": 19,
   "id": "ae957229-c20a-46bc-bcdf-02f2f30d4f9b",
   "metadata": {},
   "outputs": [
    {
     "name": "stdout",
     "output_type": "stream",
     "text": [
      "<class 'pandas.core.frame.DataFrame'>\n",
      "RangeIndex: 1020 entries, 0 to 1019\n",
      "Data columns (total 3 columns):\n",
      " #   Column  Non-Null Count  Dtype  \n",
      "---  ------  --------------  -----  \n",
      " 0   Temp    1020 non-null   int64  \n",
      " 1   Pgauge  1020 non-null   float64\n",
      " 2   Fpv     1020 non-null   float64\n",
      "dtypes: float64(2), int64(1)\n",
      "memory usage: 24.0 KB\n"
     ]
    }
   ],
   "source": [
    "# Describing the gridset\n",
    "\n",
    "fpv.info()"
   ]
  },
  {
   "cell_type": "code",
   "execution_count": 20,
   "id": "59adc9db-b84b-4df2-9186-19575cc09e3c",
   "metadata": {},
   "outputs": [
    {
     "name": "stdout",
     "output_type": "stream",
     "text": [
      "89\n",
      "70\n"
     ]
    }
   ],
   "source": [
    "# Pre-process\n",
    "print(fpv[\"Temp\"].max())\n",
    "print(fpv[\"Temp\"].min())"
   ]
  },
  {
   "cell_type": "code",
   "execution_count": 21,
   "id": "ac5ff5dd-9948-43a3-882e-eb6ebac6e933",
   "metadata": {},
   "outputs": [
    {
     "data": {
      "text/plain": [
       "array([70, 71, 72, 73, 74, 75, 76, 77, 78, 79, 80, 81, 82, 83, 84, 85, 86,\n",
       "       87, 88, 89], dtype=int64)"
      ]
     },
     "execution_count": 21,
     "metadata": {},
     "output_type": "execute_result"
    }
   ],
   "source": [
    "X_Temp = fpv.loc[:,\"Temp\"].drop_duplicates(keep=\"first\")\n",
    "X = X_Temp.to_numpy()\n",
    "X"
   ]
  },
  {
   "cell_type": "code",
   "execution_count": 22,
   "id": "fe66dbe6-9b57-44b1-86a0-1c434f9add0c",
   "metadata": {},
   "outputs": [
    {
     "name": "stdout",
     "output_type": "stream",
     "text": [
      "500.0\n",
      "0.0\n"
     ]
    }
   ],
   "source": [
    "print(fpv[\"Pgauge\"].max())\n",
    "print(fpv[\"Pgauge\"].min())"
   ]
  },
  {
   "cell_type": "code",
   "execution_count": 23,
   "id": "79f4fb45-179e-444b-bb57-8328772ad1cb",
   "metadata": {},
   "outputs": [
    {
     "data": {
      "text/plain": [
       "array([  0.,  10.,  20.,  30.,  40.,  50.,  60.,  70.,  80.,  90., 100.,\n",
       "       110., 120., 130., 140., 150., 160., 170., 180., 190., 200., 210.,\n",
       "       220., 230., 240., 250., 260., 270., 280., 290., 300., 310., 320.,\n",
       "       330., 340., 350., 360., 370., 380., 390., 400., 410., 420., 430.,\n",
       "       440., 450., 460., 470., 480., 490., 500.])"
      ]
     },
     "execution_count": 23,
     "metadata": {},
     "output_type": "execute_result"
    }
   ],
   "source": [
    "Y_Gauge = fpv.loc[:,[\"Pgauge\"]].drop_duplicates(keep=\"first\")\n",
    "Y_array = np.array(Y_Gauge)\n",
    "Y = Y_array.reshape(-1)\n",
    "Y"
   ]
  },
  {
   "cell_type": "code",
   "execution_count": 24,
   "id": "45aecc8e-fbd7-4225-a601-199d0eb2ad02",
   "metadata": {},
   "outputs": [
    {
     "data": {
      "text/plain": [
       "<bound method IndexOpsMixin.value_counts of 0       1.0000\n",
       "1       1.0007\n",
       "2       1.0015\n",
       "3       1.0022\n",
       "4       1.0029\n",
       "         ...  \n",
       "1015    1.0307\n",
       "1016    1.0314\n",
       "1017    1.0321\n",
       "1018    1.0328\n",
       "1019    1.0334\n",
       "Name: Fpv, Length: 1020, dtype: float64>"
      ]
     },
     "execution_count": 24,
     "metadata": {},
     "output_type": "execute_result"
    }
   ],
   "source": [
    "# to check whether Z has the require length of array\n",
    "fpv[\"Fpv\"].value_counts"
   ]
  },
  {
   "cell_type": "code",
   "execution_count": 25,
   "id": "a83f7258-5f24-4580-9dc3-65694b153c0b",
   "metadata": {},
   "outputs": [
    {
     "name": "stdout",
     "output_type": "stream",
     "text": [
      "1020\n",
      "True\n"
     ]
    }
   ],
   "source": [
    "print(len(X)*len(Y))\n",
    "print(len(fpv)==len(X)*len(Y))"
   ]
  },
  {
   "cell_type": "code",
   "execution_count": 26,
   "id": "eae7905c-7d3b-4a94-a77b-eaf0c674b40e",
   "metadata": {},
   "outputs": [
    {
     "data": {
      "text/plain": [
       "array([1.    , 1.0007, 1.0015, ..., 1.0321, 1.0328, 1.0334])"
      ]
     },
     "execution_count": 26,
     "metadata": {},
     "output_type": "execute_result"
    }
   ],
   "source": [
    "Z_fpv = fpv.loc[:,\"Fpv\"]\n",
    "Z_array = np.array(Z_fpv)\n",
    "Z = Z_array.reshape(-1)\n",
    "Z"
   ]
  },
  {
   "cell_type": "code",
   "execution_count": 27,
   "id": "25f2067a-e236-44af-95f3-95670bfc6e23",
   "metadata": {},
   "outputs": [
    {
     "data": {
      "text/plain": [
       "1020"
      ]
     },
     "execution_count": 27,
     "metadata": {},
     "output_type": "execute_result"
    }
   ],
   "source": [
    "len(Z)"
   ]
  },
  {
   "cell_type": "markdown",
   "id": "4fca9a6e-194d-4733-b0af-9a9f901cc88f",
   "metadata": {},
   "source": [
    "### Interpolation"
   ]
  },
  {
   "cell_type": "code",
   "execution_count": 28,
   "id": "f70b481d-c098-457c-a66f-7e897c3beed0",
   "metadata": {},
   "outputs": [],
   "source": [
    "#Construct a 2-D grid and interpolate on it:\n",
    "\n",
    "from scipy import interpolate\n",
    "\n",
    "FPV = interpolate.interp2d(X, Y, Z, kind='linear')\n"
   ]
  },
  {
   "cell_type": "code",
   "execution_count": 29,
   "id": "e321eb35",
   "metadata": {},
   "outputs": [],
   "source": [
    "#Testing Dataset\n",
    "\n",
    "X1 = np.array ([76.01])\n",
    "Y1 = np.array ([34.56])"
   ]
  },
  {
   "cell_type": "code",
   "execution_count": 30,
   "id": "ed4f489d-15d0-42a9-830e-e6600f38d037",
   "metadata": {},
   "outputs": [],
   "source": [
    "FPVnew = FPV(X1,Y1)"
   ]
  },
  {
   "cell_type": "code",
   "execution_count": 31,
   "id": "9c15fa26-bd8f-4895-b4ed-1b619dbc6808",
   "metadata": {},
   "outputs": [
    {
     "data": {
      "text/plain": [
       "array([1.0024192])"
      ]
     },
     "execution_count": 31,
     "metadata": {},
     "output_type": "execute_result"
    }
   ],
   "source": [
    "FPVnew"
   ]
  },
  {
   "cell_type": "markdown",
   "id": "29868138",
   "metadata": {},
   "source": [
    "# Loading Raw Data"
   ]
  },
  {
   "cell_type": "code",
   "execution_count": 153,
   "id": "d1899faa",
   "metadata": {},
   "outputs": [],
   "source": [
    "# Load Raw Data\n",
    "\n",
    "raw = pd.read_csv(\"PMEOEVC.csv\")"
   ]
  },
  {
   "cell_type": "code",
   "execution_count": 154,
   "id": "74b976a3",
   "metadata": {},
   "outputs": [],
   "source": [
    "calculationraw = raw[[\"Consumption (m3)\",\"Pressure (kPa)\",\"Temperature (°C)\"]]"
   ]
  },
  {
   "cell_type": "code",
   "execution_count": 155,
   "id": "33a570cb",
   "metadata": {},
   "outputs": [],
   "source": [
    "#pull m3, P and T from raw into array\n",
    "\n",
    "calculationrawarray = calculationraw.to_numpy()\n",
    "    "
   ]
  },
  {
   "cell_type": "code",
   "execution_count": 156,
   "id": "3f442b19",
   "metadata": {},
   "outputs": [
    {
     "data": {
      "text/plain": [
       "array([[       nan, 2.0000e-01, 1.7010e+01],\n",
       "       [2.1600e+02, 1.2014e+02, 1.6900e+01],\n",
       "       [4.1000e+02, 1.3767e+02, 1.6770e+01],\n",
       "       ...,\n",
       "       [3.3500e+02, 1.3781e+02, 1.6550e+01],\n",
       "       [3.4600e+02, 1.3756e+02, 1.7050e+01],\n",
       "       [3.7300e+02, 1.3747e+02, 1.6720e+01]])"
      ]
     },
     "execution_count": 156,
     "metadata": {},
     "output_type": "execute_result"
    }
   ],
   "source": [
    "calculationrawarray"
   ]
  },
  {
   "cell_type": "markdown",
   "id": "923468ce",
   "metadata": {},
   "source": [
    "### Calculation for sm3_Predicted using Calculated z-factor"
   ]
  },
  {
   "cell_type": "markdown",
   "id": "d1a071da",
   "metadata": {},
   "source": [
    "Vectorisation - convert DF on selected columns to Numpy and iterate"
   ]
  },
  {
   "cell_type": "code",
   "execution_count": 130,
   "id": "6bcb2845",
   "metadata": {},
   "outputs": [],
   "source": [
    "#EVC\n",
    "\n",
    "sm3_predarr = []\n",
    "\n",
    "for r in CleanRawArray:\n",
    "    P_term = (r[1]+101.325)/101.325 ##For EVC, Pressure reading is Gauge Pressure. Require Absolute Pressure in the Formula\n",
    "    T_term = (273.15+15)/(273.15+r[2])\n",
    "    FPVnew = FPV(r[1],r[2])\n",
    "    z_1 = FPVnew**2\n",
    "    sm3_pred = r[0] * T_term * P_term * (1/z_1)\n",
    "    sm3_predarr = np.append(sm3_predarr,sm3_pred)\n",
    "    "
   ]
  },
  {
   "cell_type": "code",
   "execution_count": 147,
   "id": "a6c8b711",
   "metadata": {},
   "outputs": [],
   "source": [
    "##Append sm3_pred array to original DF\n",
    "\n",
    "addedraw = raw\n",
    "\n",
    "addedraw[\"Predicted Consumption (Sm3)\"] = sm3_predarr.tolist()"
   ]
  },
  {
   "cell_type": "code",
   "execution_count": 151,
   "id": "8c300a4e",
   "metadata": {},
   "outputs": [],
   "source": [
    "finalraw = addedraw[[\"Date\",\"Time\",\"Consumption (m3)\",\"Pressure (kPa)\",\"Temperature (°C)\",\"Consumption (Sm3)\",\"Predicted Consumption (Sm3)\"]]"
   ]
  },
  {
   "cell_type": "code",
   "execution_count": 152,
   "id": "e8239f54",
   "metadata": {},
   "outputs": [
    {
     "data": {
      "text/html": [
       "<div>\n",
       "<style scoped>\n",
       "    .dataframe tbody tr th:only-of-type {\n",
       "        vertical-align: middle;\n",
       "    }\n",
       "\n",
       "    .dataframe tbody tr th {\n",
       "        vertical-align: top;\n",
       "    }\n",
       "\n",
       "    .dataframe thead th {\n",
       "        text-align: right;\n",
       "    }\n",
       "</style>\n",
       "<table border=\"1\" class=\"dataframe\">\n",
       "  <thead>\n",
       "    <tr style=\"text-align: right;\">\n",
       "      <th></th>\n",
       "      <th>Date</th>\n",
       "      <th>Time</th>\n",
       "      <th>Consumption (m3)</th>\n",
       "      <th>Pressure (kPa)</th>\n",
       "      <th>Temperature (°C)</th>\n",
       "      <th>Consumption (Sm3)</th>\n",
       "      <th>Predicted Consumption (Sm3)</th>\n",
       "    </tr>\n",
       "  </thead>\n",
       "  <tbody>\n",
       "    <tr>\n",
       "      <th>0</th>\n",
       "      <td>24/05/2022</td>\n",
       "      <td>19</td>\n",
       "      <td>NaN</td>\n",
       "      <td>0.20</td>\n",
       "      <td>17.01</td>\n",
       "      <td>NaN</td>\n",
       "      <td>NaN</td>\n",
       "    </tr>\n",
       "    <tr>\n",
       "      <th>1</th>\n",
       "      <td>24/05/2022</td>\n",
       "      <td>20</td>\n",
       "      <td>216.0</td>\n",
       "      <td>120.14</td>\n",
       "      <td>16.90</td>\n",
       "      <td>507.0000</td>\n",
       "      <td>468.002120</td>\n",
       "    </tr>\n",
       "    <tr>\n",
       "      <th>2</th>\n",
       "      <td>24/05/2022</td>\n",
       "      <td>21</td>\n",
       "      <td>410.0</td>\n",
       "      <td>137.67</td>\n",
       "      <td>16.77</td>\n",
       "      <td>964.0000</td>\n",
       "      <td>959.100749</td>\n",
       "    </tr>\n",
       "    <tr>\n",
       "      <th>3</th>\n",
       "      <td>24/05/2022</td>\n",
       "      <td>22</td>\n",
       "      <td>383.0</td>\n",
       "      <td>137.91</td>\n",
       "      <td>17.20</td>\n",
       "      <td>900.0000</td>\n",
       "      <td>895.458120</td>\n",
       "    </tr>\n",
       "    <tr>\n",
       "      <th>4</th>\n",
       "      <td>24/05/2022</td>\n",
       "      <td>23</td>\n",
       "      <td>401.0</td>\n",
       "      <td>137.54</td>\n",
       "      <td>17.09</td>\n",
       "      <td>942.0000</td>\n",
       "      <td>936.461495</td>\n",
       "    </tr>\n",
       "    <tr>\n",
       "      <th>...</th>\n",
       "      <td>...</td>\n",
       "      <td>...</td>\n",
       "      <td>...</td>\n",
       "      <td>...</td>\n",
       "      <td>...</td>\n",
       "      <td>...</td>\n",
       "      <td>...</td>\n",
       "    </tr>\n",
       "    <tr>\n",
       "      <th>972</th>\n",
       "      <td>04/07/2022</td>\n",
       "      <td>7</td>\n",
       "      <td>339.0</td>\n",
       "      <td>138.61</td>\n",
       "      <td>15.67</td>\n",
       "      <td>803.0000</td>\n",
       "      <td>799.286698</td>\n",
       "    </tr>\n",
       "    <tr>\n",
       "      <th>973</th>\n",
       "      <td>04/07/2022</td>\n",
       "      <td>8</td>\n",
       "      <td>333.0</td>\n",
       "      <td>138.62</td>\n",
       "      <td>15.79</td>\n",
       "      <td>789.0000</td>\n",
       "      <td>784.833491</td>\n",
       "    </tr>\n",
       "    <tr>\n",
       "      <th>974</th>\n",
       "      <td>04/07/2022</td>\n",
       "      <td>9</td>\n",
       "      <td>335.0</td>\n",
       "      <td>137.81</td>\n",
       "      <td>16.55</td>\n",
       "      <td>789.0000</td>\n",
       "      <td>784.734150</td>\n",
       "    </tr>\n",
       "    <tr>\n",
       "      <th>975</th>\n",
       "      <td>04/07/2022</td>\n",
       "      <td>10</td>\n",
       "      <td>346.0</td>\n",
       "      <td>137.56</td>\n",
       "      <td>17.05</td>\n",
       "      <td>812.0000</td>\n",
       "      <td>808.202705</td>\n",
       "    </tr>\n",
       "    <tr>\n",
       "      <th>976</th>\n",
       "      <td>04/07/2022</td>\n",
       "      <td>11</td>\n",
       "      <td>373.0</td>\n",
       "      <td>137.47</td>\n",
       "      <td>16.72</td>\n",
       "      <td>877.0000</td>\n",
       "      <td>871.974052</td>\n",
       "    </tr>\n",
       "  </tbody>\n",
       "</table>\n",
       "<p>977 rows × 7 columns</p>\n",
       "</div>"
      ],
      "text/plain": [
       "           Date  Time  Consumption (m3)  Pressure (kPa)  Temperature (°C)  \\\n",
       "0    24/05/2022    19               NaN            0.20             17.01   \n",
       "1    24/05/2022    20             216.0          120.14             16.90   \n",
       "2    24/05/2022    21             410.0          137.67             16.77   \n",
       "3    24/05/2022    22             383.0          137.91             17.20   \n",
       "4    24/05/2022    23             401.0          137.54             17.09   \n",
       "..          ...   ...               ...             ...               ...   \n",
       "972  04/07/2022     7             339.0          138.61             15.67   \n",
       "973  04/07/2022     8             333.0          138.62             15.79   \n",
       "974  04/07/2022     9             335.0          137.81             16.55   \n",
       "975  04/07/2022    10             346.0          137.56             17.05   \n",
       "976  04/07/2022    11             373.0          137.47             16.72   \n",
       "\n",
       "    Consumption (Sm3)  Predicted Consumption (Sm3)  \n",
       "0                 NaN                          NaN  \n",
       "1            507.0000                   468.002120  \n",
       "2            964.0000                   959.100749  \n",
       "3            900.0000                   895.458120  \n",
       "4            942.0000                   936.461495  \n",
       "..                ...                          ...  \n",
       "972          803.0000                   799.286698  \n",
       "973          789.0000                   784.833491  \n",
       "974          789.0000                   784.734150  \n",
       "975          812.0000                   808.202705  \n",
       "976          877.0000                   871.974052  \n",
       "\n",
       "[977 rows x 7 columns]"
      ]
     },
     "execution_count": 152,
     "metadata": {},
     "output_type": "execute_result"
    }
   ],
   "source": [
    "finalraw"
   ]
  },
  {
   "cell_type": "code",
   "execution_count": null,
   "id": "ddaf5cf1",
   "metadata": {},
   "outputs": [],
   "source": []
  }
 ],
 "metadata": {
  "kernelspec": {
   "display_name": "Python 3 (ipykernel)",
   "language": "python",
   "name": "python3"
  },
  "language_info": {
   "codemirror_mode": {
    "name": "ipython",
    "version": 3
   },
   "file_extension": ".py",
   "mimetype": "text/x-python",
   "name": "python",
   "nbconvert_exporter": "python",
   "pygments_lexer": "ipython3",
   "version": "3.9.7"
  }
 },
 "nbformat": 4,
 "nbformat_minor": 5
}
